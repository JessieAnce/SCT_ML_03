{
  "nbformat": 4,
  "nbformat_minor": 0,
  "metadata": {
    "colab": {
      "provenance": [],
      "authorship_tag": "ABX9TyPfhUUZ6xcyoTMChmMHLeow",
      "include_colab_link": true
    },
    "kernelspec": {
      "name": "python3",
      "display_name": "Python 3"
    },
    "language_info": {
      "name": "python"
    }
  },
  "cells": [
    {
      "cell_type": "markdown",
      "metadata": {
        "id": "view-in-github",
        "colab_type": "text"
      },
      "source": [
        "<a href=\"https://colab.research.google.com/github/JessieAnce/SCT_ML_03/blob/main/Cats_and_Dogs.ipynb\" target=\"_parent\"><img src=\"https://colab.research.google.com/assets/colab-badge.svg\" alt=\"Open In Colab\"/></a>"
      ]
    },
    {
      "cell_type": "code",
      "execution_count": 5,
      "metadata": {
        "colab": {
          "base_uri": "https://localhost:8080/",
          "height": 108
        },
        "id": "kQsILRtnzydi",
        "outputId": "4c906cc7-c582-4a5c-8ec8-e621df99a1e5"
      },
      "outputs": [
        {
          "output_type": "error",
          "ename": "SyntaxError",
          "evalue": "(unicode error) 'unicodeescape' codec can't decode bytes in position 2-3: truncated \\UXXXXXXXX escape (ipython-input-5-1238126221.py, line 11)",
          "traceback": [
            "\u001b[0;36m  File \u001b[0;32m\"/tmp/ipython-input-5-1238126221.py\"\u001b[0;36m, line \u001b[0;32m11\u001b[0m\n\u001b[0;31m    DATA_DIR = \"C:\\Users\\Paul Thomas\\OneDrive\\Desktop\\cats and dog\\dogs_vs_cats\\train\" # e.g., \"./dogs-vs-cats/train\"\u001b[0m\n\u001b[0m                                                                                       ^\u001b[0m\n\u001b[0;31mSyntaxError\u001b[0m\u001b[0;31m:\u001b[0m (unicode error) 'unicodeescape' codec can't decode bytes in position 2-3: truncated \\UXXXXXXXX escape\n"
          ]
        }
      ],
      "source": [
        "import os\n",
        "import numpy as np\n",
        "import cv2\n",
        "from sklearn.model_selection import train_test_split\n",
        "from sklearn.svm import SVC\n",
        "from sklearn.metrics import classification_report, confusion_matrix\n",
        "from tqdm import tqdm\n",
        "\n",
        "# Path to extracted train images from Kaggle dataset\n",
        "# TODO: Replace \"path_to_train_folder\" with the actual path to your training data\n",
        "DATA_DIR = \"C:\\Users\\Paul Thomas\\OneDrive\\Desktop\\cats and dog\\dogs_vs_cats\\train\" # e.g., \"./dogs-vs-cats/train\"\n",
        "IMG_SIZE = 64\n",
        "\n",
        "# Step 1: Load and preprocess images\n",
        "def load_images(data_dir, limit=2000):  # Load a limited number for speed\n",
        "    data = []\n",
        "    labels = []\n",
        "    files = os.listdir(data_dir)\n",
        "\n",
        "    for file in tqdm(files[:limit]):\n",
        "        label = 1 if \"dog\" in file else 0\n",
        "        path = os.path.join(data_dir, file)\n",
        "        img = cv2.imread(path)\n",
        "        img = cv2.resize(img, (IMG_SIZE, IMG_SIZE))\n",
        "        img = img / 255.0  # Normalize\n",
        "        data.append(img.flatten())  # Flatten to 1D\n",
        "        labels.append(label)\n",
        "\n",
        "    return np.array(data), np.array(labels)\n",
        "\n",
        "print(\"Loading images...\")\n",
        "X, y = load_images(DATA_DIR, limit=2000)\n",
        "\n",
        "# Step 2: Train/Test split\n",
        "X_train, X_test, y_train, y_test = train_test_split(\n",
        "    X, y, test_size=0.2, random_state=42\n",
        ")\n",
        "\n",
        "# Step 3: Train SVM classifier\n",
        "print(\"Training SVM...\")\n",
        "svm = SVC(kernel='linear', C=1.0, random_state=42)\n",
        "svm.fit(X_train, y_train)\n",
        "\n",
        "# Step 4: Evaluate model\n",
        "y_pred = svm.predict(X_test)\n",
        "\n",
        "print(\"\\nClassification Report:\")\n",
        "print(classification_report(y_test, y_pred))\n",
        "\n",
        "print(\"Confusion Matrix:\")\n",
        "print(confusion_matrix(y_test, y_pred))"
      ]
    }
  ]
}